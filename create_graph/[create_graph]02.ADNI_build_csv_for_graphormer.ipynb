{
 "cells": [
  {
   "cell_type": "markdown",
   "id": "eastern-arizona",
   "metadata": {},
   "source": [
    "# 1 libraries"
   ]
  },
  {
   "cell_type": "code",
   "execution_count": 2,
   "id": "damaged-sight",
   "metadata": {},
   "outputs": [],
   "source": [
    "import numpy as np\n",
    "import pandas as pd\n",
    "import os\n",
    "import re\n",
    "import networkx as nx\n",
    "#import scona as scn\n",
    "import pickle\n",
    "from numpy import genfromtxt"
   ]
  },
  {
   "cell_type": "markdown",
   "id": "extraordinary-billy",
   "metadata": {},
   "source": [
    "# 2 Load data"
   ]
  },
  {
   "cell_type": "code",
   "execution_count": 3,
   "id": "c898a04a",
   "metadata": {},
   "outputs": [
    {
     "data": {
      "text/plain": [
       "179"
      ]
     },
     "execution_count": 3,
     "metadata": {},
     "output_type": "execute_result"
    }
   ],
   "source": [
    "count_data_dir = './ADNI_structural_graph_count_threshold_20'\n",
    "count_targ_folder = os.listdir(count_data_dir)\n",
    "count_graph_list=list(count_targ_folder)\n",
    "count_graph_list.sort()\n",
    "len(count_graph_list)"
   ]
  },
  {
   "cell_type": "code",
   "execution_count": 4,
   "id": "steady-silicon",
   "metadata": {},
   "outputs": [],
   "source": [
    "with open('./ADNI_structural_graph_count_threshold_20/ADNI_structural_graph_count_threshold_20_4081.pickle', 'rb') as f:\n",
    "    test = pickle.load(f)"
   ]
  },
  {
   "cell_type": "code",
   "execution_count": 5,
   "id": "confirmed-simpson",
   "metadata": {
    "scrolled": true
   },
   "outputs": [
    {
     "data": {
      "text/plain": [
       "{'labels': 1,\n",
       " 'num_nodes': 84,\n",
       " 'num_edges': 2540,\n",
       " 'edge_index': array([[ 2.,  2.,  3., ..., 83., 83., 83.],\n",
       "        [ 0.,  1.,  0., ..., 77., 78., 82.]]),\n",
       " 'edge_feat': array([1486.,  821.,   30., ...,  146.,  171.,   93.]),\n",
       " 'node_feat': array([['2.548', '16362'],\n",
       "        ['2.154', '11230'],\n",
       "        ['nan', '3251.7'],\n",
       "        ['2.864', '9626'],\n",
       "        ['2.928', '5414'],\n",
       "        ['2.935', '1734'],\n",
       "        ['2.488', '7781'],\n",
       "        ['3.98', '1883'],\n",
       "        ['2.727', '7434'],\n",
       "        ['2.477', '8118'],\n",
       "        ['2.644', '9488'],\n",
       "        ['2.58', '1774'],\n",
       "        ['2.433', '11992'],\n",
       "        ['2.916', '9079'],\n",
       "        ['2.463', '1623'],\n",
       "        ['2.909', '9729'],\n",
       "        ['nan', '39863.2'],\n",
       "        ['2.412', '4451'],\n",
       "        ['2.246', '1605'],\n",
       "        ['nan', '503.0'],\n",
       "        ['nan', '1363.2'],\n",
       "        ['nan', '3112.7'],\n",
       "        ['2.719', '9161'],\n",
       "        ['3.093', '2094'],\n",
       "        ['2.772', '9998'],\n",
       "        ['nan', '1285.6'],\n",
       "        ['2.493', '4240'],\n",
       "        ['1.727', '1913'],\n",
       "        ['2.762', '1782'],\n",
       "        ['nan', '2902.9'],\n",
       "        ['1.9', '6300'],\n",
       "        ['2.471', '3270'],\n",
       "        ['2.023', '5537'],\n",
       "        ['2.291', '10373'],\n",
       "        ['2.326', '2139'],\n",
       "        ['2.239', '2511'],\n",
       "        ['2.22', '11705'],\n",
       "        ['1.968', '6532'],\n",
       "        ['2.175', '11854'],\n",
       "        ['1.914', '543'],\n",
       "        ['nan', '1236.9'],\n",
       "        ['2.524', '10081'],\n",
       "        ['nan', '1783.5'],\n",
       "        ['2.697', '4695'],\n",
       "        ['2.538', '10551'],\n",
       "        ['2.144', '9533'],\n",
       "        ['2.315', '2481'],\n",
       "        ['nan', 'nan'],\n",
       "        ['nan', '3161.1'],\n",
       "        ['1.912', '2111'],\n",
       "        ['nan', 'nan'],\n",
       "        ['3.183', '1872'],\n",
       "        ['3.871', '2551'],\n",
       "        ['2.315', '7452'],\n",
       "        ['2.118', '500'],\n",
       "        ['2.804', '2885'],\n",
       "        ['2.852', '1016'],\n",
       "        ['2.089', '11307'],\n",
       "        ['2.25', '7707'],\n",
       "        ['2.618', '2829'],\n",
       "        ['2.62', '3371'],\n",
       "        ['3.625', '2259'],\n",
       "        ['2.26', '9288'],\n",
       "        ['nan', '464.3'],\n",
       "        ['nan', '3507.0'],\n",
       "        ['3.02', '5285'],\n",
       "        ['2.073', '2581'],\n",
       "        ['2.687', '2377'],\n",
       "        ['2.481', '8538'],\n",
       "        ['2.854', '6134'],\n",
       "        ['2.618', '2829'],\n",
       "        ['2.572', '15795'],\n",
       "        ['2.11', '6630'],\n",
       "        ['nan', '3389.9'],\n",
       "        ['2.724', '6371'],\n",
       "        ['3.095', '1281'],\n",
       "        ['3.649', '1604'],\n",
       "        ['1.879', '2245'],\n",
       "        ['2.368', '2823'],\n",
       "        ['2.407', '2354'],\n",
       "        ['2.412', '4414'],\n",
       "        ['2.812', '2290'],\n",
       "        ['nan', '38504.9'],\n",
       "        ['2.805', '1117']], dtype='<U32')}"
      ]
     },
     "execution_count": 5,
     "metadata": {},
     "output_type": "execute_result"
    }
   ],
   "source": [
    "test"
   ]
  },
  {
   "cell_type": "markdown",
   "id": "fbb9b4b4",
   "metadata": {},
   "source": [
    "# 4 count"
   ]
  },
  {
   "cell_type": "markdown",
   "id": "3e23f59d",
   "metadata": {},
   "source": [
    "### 4-1 graph level - graph label, num_edge_list, num_node_list"
   ]
  },
  {
   "cell_type": "code",
   "execution_count": 11,
   "id": "ad91fb13",
   "metadata": {},
   "outputs": [],
   "source": [
    "graph_label = pd.DataFrame(columns=['diagnosis'])\n",
    "num_edge = pd.DataFrame(columns=['num_edge'])\n",
    "num_node = pd.DataFrame(columns=['num_node'])"
   ]
  },
  {
   "cell_type": "code",
   "execution_count": 7,
   "id": "98779d8c",
   "metadata": {},
   "outputs": [
    {
     "data": {
      "text/plain": [
       "int"
      ]
     },
     "execution_count": 7,
     "metadata": {},
     "output_type": "execute_result"
    }
   ],
   "source": [
    "type(test['num_nodes'])"
   ]
  },
  {
   "cell_type": "code",
   "execution_count": 12,
   "id": "6612403d",
   "metadata": {},
   "outputs": [],
   "source": [
    "#!rm -rf abcd-struct-count\n",
    "#!mkdir ./ADNI-struct-count\n",
    "for i in range(len(count_graph_list)):\n",
    "    data = os.path.join(count_data_dir, count_graph_list[i])\n",
    "    subject_id = count_graph_list[i].split('_')[4].split('.')[0]\n",
    "    with open(data, 'rb') as f:\n",
    "        graph_data = pickle.load(f)\n",
    "        \n",
    "    # 1 graph label\n",
    "    diagnosis = graph_data['labels'].astype(np.float16)\n",
    "    graph_label = graph_label.append(pd.DataFrame([diagnosis], columns=['diagnosis']),\n",
    "                                     ignore_index=True)\n",
    "    \n",
    "    # 2 num_edge_list\n",
    "    num_edge_score = int(graph_data['num_edges'])\n",
    "    num_edge = num_edge.append(pd.DataFrame([num_edge_score], columns=['num_edge']),\n",
    "                               ignore_index=True)\n",
    "    \n",
    "    \n",
    "    # 3 num_node_list\n",
    "    num_node_score = int(graph_data['num_nodes'])\n",
    "    num_node = num_node.append(pd.DataFrame([num_node_score], columns=['num_node']),\n",
    "                               ignore_index=True)\n",
    "    "
   ]
  },
  {
   "cell_type": "code",
   "execution_count": 9,
   "id": "f87ebf04",
   "metadata": {},
   "outputs": [
    {
     "data": {
      "text/html": [
       "<div>\n",
       "<style scoped>\n",
       "    .dataframe tbody tr th:only-of-type {\n",
       "        vertical-align: middle;\n",
       "    }\n",
       "\n",
       "    .dataframe tbody tr th {\n",
       "        vertical-align: top;\n",
       "    }\n",
       "\n",
       "    .dataframe thead th {\n",
       "        text-align: right;\n",
       "    }\n",
       "</style>\n",
       "<table border=\"1\" class=\"dataframe\">\n",
       "  <thead>\n",
       "    <tr style=\"text-align: right;\">\n",
       "      <th></th>\n",
       "      <th>num_edge</th>\n",
       "    </tr>\n",
       "  </thead>\n",
       "  <tbody>\n",
       "    <tr>\n",
       "      <th>0</th>\n",
       "      <td>2546</td>\n",
       "    </tr>\n",
       "    <tr>\n",
       "      <th>1</th>\n",
       "      <td>2426</td>\n",
       "    </tr>\n",
       "    <tr>\n",
       "      <th>2</th>\n",
       "      <td>2440</td>\n",
       "    </tr>\n",
       "    <tr>\n",
       "      <th>3</th>\n",
       "      <td>2540</td>\n",
       "    </tr>\n",
       "    <tr>\n",
       "      <th>4</th>\n",
       "      <td>2485</td>\n",
       "    </tr>\n",
       "    <tr>\n",
       "      <th>...</th>\n",
       "      <td>...</td>\n",
       "    </tr>\n",
       "    <tr>\n",
       "      <th>174</th>\n",
       "      <td>2403</td>\n",
       "    </tr>\n",
       "    <tr>\n",
       "      <th>175</th>\n",
       "      <td>2465</td>\n",
       "    </tr>\n",
       "    <tr>\n",
       "      <th>176</th>\n",
       "      <td>2423</td>\n",
       "    </tr>\n",
       "    <tr>\n",
       "      <th>177</th>\n",
       "      <td>2545</td>\n",
       "    </tr>\n",
       "    <tr>\n",
       "      <th>178</th>\n",
       "      <td>2589</td>\n",
       "    </tr>\n",
       "  </tbody>\n",
       "</table>\n",
       "<p>179 rows × 1 columns</p>\n",
       "</div>"
      ],
      "text/plain": [
       "    num_edge\n",
       "0       2546\n",
       "1       2426\n",
       "2       2440\n",
       "3       2540\n",
       "4       2485\n",
       "..       ...\n",
       "174     2403\n",
       "175     2465\n",
       "176     2423\n",
       "177     2545\n",
       "178     2589\n",
       "\n",
       "[179 rows x 1 columns]"
      ]
     },
     "execution_count": 9,
     "metadata": {},
     "output_type": "execute_result"
    }
   ],
   "source": [
    "num_edge"
   ]
  },
  {
   "cell_type": "code",
   "execution_count": 13,
   "id": "f66463ab",
   "metadata": {},
   "outputs": [
    {
     "data": {
      "text/html": [
       "<div>\n",
       "<style scoped>\n",
       "    .dataframe tbody tr th:only-of-type {\n",
       "        vertical-align: middle;\n",
       "    }\n",
       "\n",
       "    .dataframe tbody tr th {\n",
       "        vertical-align: top;\n",
       "    }\n",
       "\n",
       "    .dataframe thead th {\n",
       "        text-align: right;\n",
       "    }\n",
       "</style>\n",
       "<table border=\"1\" class=\"dataframe\">\n",
       "  <thead>\n",
       "    <tr style=\"text-align: right;\">\n",
       "      <th></th>\n",
       "      <th>diagnosis</th>\n",
       "    </tr>\n",
       "  </thead>\n",
       "  <tbody>\n",
       "    <tr>\n",
       "      <th>0</th>\n",
       "      <td>1.0</td>\n",
       "    </tr>\n",
       "    <tr>\n",
       "      <th>1</th>\n",
       "      <td>3.0</td>\n",
       "    </tr>\n",
       "    <tr>\n",
       "      <th>2</th>\n",
       "      <td>1.0</td>\n",
       "    </tr>\n",
       "    <tr>\n",
       "      <th>3</th>\n",
       "      <td>1.0</td>\n",
       "    </tr>\n",
       "    <tr>\n",
       "      <th>4</th>\n",
       "      <td>3.0</td>\n",
       "    </tr>\n",
       "    <tr>\n",
       "      <th>...</th>\n",
       "      <td>...</td>\n",
       "    </tr>\n",
       "    <tr>\n",
       "      <th>174</th>\n",
       "      <td>1.0</td>\n",
       "    </tr>\n",
       "    <tr>\n",
       "      <th>175</th>\n",
       "      <td>1.0</td>\n",
       "    </tr>\n",
       "    <tr>\n",
       "      <th>176</th>\n",
       "      <td>1.0</td>\n",
       "    </tr>\n",
       "    <tr>\n",
       "      <th>177</th>\n",
       "      <td>1.0</td>\n",
       "    </tr>\n",
       "    <tr>\n",
       "      <th>178</th>\n",
       "      <td>1.0</td>\n",
       "    </tr>\n",
       "  </tbody>\n",
       "</table>\n",
       "<p>179 rows × 1 columns</p>\n",
       "</div>"
      ],
      "text/plain": [
       "     diagnosis\n",
       "0          1.0\n",
       "1          3.0\n",
       "2          1.0\n",
       "3          1.0\n",
       "4          3.0\n",
       "..         ...\n",
       "174        1.0\n",
       "175        1.0\n",
       "176        1.0\n",
       "177        1.0\n",
       "178        1.0\n",
       "\n",
       "[179 rows x 1 columns]"
      ]
     },
     "execution_count": 13,
     "metadata": {},
     "output_type": "execute_result"
    }
   ],
   "source": [
    "graph_label"
   ]
  },
  {
   "cell_type": "code",
   "execution_count": 14,
   "id": "bd47e167",
   "metadata": {},
   "outputs": [
    {
     "data": {
      "text/html": [
       "<div>\n",
       "<style scoped>\n",
       "    .dataframe tbody tr th:only-of-type {\n",
       "        vertical-align: middle;\n",
       "    }\n",
       "\n",
       "    .dataframe tbody tr th {\n",
       "        vertical-align: top;\n",
       "    }\n",
       "\n",
       "    .dataframe thead th {\n",
       "        text-align: right;\n",
       "    }\n",
       "</style>\n",
       "<table border=\"1\" class=\"dataframe\">\n",
       "  <thead>\n",
       "    <tr style=\"text-align: right;\">\n",
       "      <th></th>\n",
       "      <th>num_node</th>\n",
       "    </tr>\n",
       "  </thead>\n",
       "  <tbody>\n",
       "    <tr>\n",
       "      <th>0</th>\n",
       "      <td>84</td>\n",
       "    </tr>\n",
       "    <tr>\n",
       "      <th>1</th>\n",
       "      <td>84</td>\n",
       "    </tr>\n",
       "    <tr>\n",
       "      <th>2</th>\n",
       "      <td>84</td>\n",
       "    </tr>\n",
       "    <tr>\n",
       "      <th>3</th>\n",
       "      <td>84</td>\n",
       "    </tr>\n",
       "    <tr>\n",
       "      <th>4</th>\n",
       "      <td>84</td>\n",
       "    </tr>\n",
       "    <tr>\n",
       "      <th>...</th>\n",
       "      <td>...</td>\n",
       "    </tr>\n",
       "    <tr>\n",
       "      <th>174</th>\n",
       "      <td>84</td>\n",
       "    </tr>\n",
       "    <tr>\n",
       "      <th>175</th>\n",
       "      <td>84</td>\n",
       "    </tr>\n",
       "    <tr>\n",
       "      <th>176</th>\n",
       "      <td>84</td>\n",
       "    </tr>\n",
       "    <tr>\n",
       "      <th>177</th>\n",
       "      <td>84</td>\n",
       "    </tr>\n",
       "    <tr>\n",
       "      <th>178</th>\n",
       "      <td>84</td>\n",
       "    </tr>\n",
       "  </tbody>\n",
       "</table>\n",
       "<p>179 rows × 1 columns</p>\n",
       "</div>"
      ],
      "text/plain": [
       "    num_node\n",
       "0         84\n",
       "1         84\n",
       "2         84\n",
       "3         84\n",
       "4         84\n",
       "..       ...\n",
       "174       84\n",
       "175       84\n",
       "176       84\n",
       "177       84\n",
       "178       84\n",
       "\n",
       "[179 rows x 1 columns]"
      ]
     },
     "execution_count": 14,
     "metadata": {},
     "output_type": "execute_result"
    }
   ],
   "source": [
    "num_node"
   ]
  },
  {
   "cell_type": "code",
   "execution_count": 15,
   "id": "224324e4",
   "metadata": {},
   "outputs": [],
   "source": [
    "# save files    \n",
    "graph_label.to_csv('./ADNI-struct-count/graph-label.csv.gz', index=False, header=None)\n",
    "num_edge.to_csv('./ADNI-struct-count/num-edge-list.csv.gz', index=False, header=None)\n",
    "num_node.to_csv('./ADNI-struct-count/num-node-list.csv.gz', index=False, header=None)"
   ]
  },
  {
   "cell_type": "markdown",
   "id": "c09eb937",
   "metadata": {},
   "source": [
    "### 4-2 edge level - edge_feat, edge"
   ]
  },
  {
   "cell_type": "code",
   "execution_count": 24,
   "id": "855552a8",
   "metadata": {},
   "outputs": [],
   "source": [
    "edge_feat_list = []\n",
    "edge_index_source_list=[]\n",
    "edge_index_target_list=[]"
   ]
  },
  {
   "cell_type": "code",
   "execution_count": 25,
   "id": "41db05f0",
   "metadata": {},
   "outputs": [
    {
     "data": {
      "text/plain": [
       "2.0"
      ]
     },
     "execution_count": 25,
     "metadata": {},
     "output_type": "execute_result"
    }
   ],
   "source": [
    "test['edge_index'][0][0]"
   ]
  },
  {
   "cell_type": "code",
   "execution_count": 26,
   "id": "c12aed8b",
   "metadata": {},
   "outputs": [
    {
     "data": {
      "text/plain": [
       "1486.0"
      ]
     },
     "execution_count": 26,
     "metadata": {},
     "output_type": "execute_result"
    }
   ],
   "source": [
    "test['edge_feat'][0]"
   ]
  },
  {
   "cell_type": "code",
   "execution_count": 27,
   "id": "66ec3559",
   "metadata": {},
   "outputs": [
    {
     "data": {
      "text/plain": [
       "numpy.float64"
      ]
     },
     "execution_count": 27,
     "metadata": {},
     "output_type": "execute_result"
    }
   ],
   "source": [
    "type(test['edge_index'][0][0])"
   ]
  },
  {
   "cell_type": "code",
   "execution_count": 28,
   "id": "f6f8c846",
   "metadata": {},
   "outputs": [],
   "source": [
    "for i in range(len(count_graph_list)):\n",
    "    data = os.path.join(count_data_dir, count_graph_list[i])\n",
    "    subject_id = count_graph_list[i].split('_')[-1].split('.')[0]\n",
    "    with open(data, 'rb') as f:\n",
    "        graph_data = pickle.load(f)\n",
    "    \n",
    "    for j in range(graph_data['num_edges']):\n",
    "        # 4 edge_feat\n",
    "        if graph_data['edge_feat'][j] == 1.0:\n",
    "            edge_feat_list.append(1)\n",
    "        else:\n",
    "            edge_feat_list.append(int(1*graph_data['edge_feat'][j].astype(np.float64)))\n",
    "        ### fa는 10, count는 1, 나머진 다 10000 곱하기\n",
    "              \n",
    "        # 5 edge_index\n",
    "        edge_index_source_list.append(round(graph_data['edge_index'][0][j]))\n",
    "        edge_index_target_list.append(round(graph_data['edge_index'][1][j]))"
   ]
  },
  {
   "cell_type": "code",
   "execution_count": 29,
   "id": "ba2dd459",
   "metadata": {},
   "outputs": [],
   "source": [
    "edge_feat=pd.DataFrame({'struct_conn': edge_feat_list})\n",
    "edge_index=pd.DataFrame({'source': edge_index_source_list, 'target' : edge_index_target_list})"
   ]
  },
  {
   "cell_type": "code",
   "execution_count": 30,
   "id": "90071685",
   "metadata": {
    "scrolled": true
   },
   "outputs": [
    {
     "data": {
      "text/html": [
       "<div>\n",
       "<style scoped>\n",
       "    .dataframe tbody tr th:only-of-type {\n",
       "        vertical-align: middle;\n",
       "    }\n",
       "\n",
       "    .dataframe tbody tr th {\n",
       "        vertical-align: top;\n",
       "    }\n",
       "\n",
       "    .dataframe thead th {\n",
       "        text-align: right;\n",
       "    }\n",
       "</style>\n",
       "<table border=\"1\" class=\"dataframe\">\n",
       "  <thead>\n",
       "    <tr style=\"text-align: right;\">\n",
       "      <th></th>\n",
       "      <th>struct_conn</th>\n",
       "    </tr>\n",
       "  </thead>\n",
       "  <tbody>\n",
       "    <tr>\n",
       "      <th>0</th>\n",
       "      <td>343</td>\n",
       "    </tr>\n",
       "    <tr>\n",
       "      <th>1</th>\n",
       "      <td>72</td>\n",
       "    </tr>\n",
       "    <tr>\n",
       "      <th>2</th>\n",
       "      <td>23</td>\n",
       "    </tr>\n",
       "    <tr>\n",
       "      <th>3</th>\n",
       "      <td>313</td>\n",
       "    </tr>\n",
       "    <tr>\n",
       "      <th>4</th>\n",
       "      <td>45</td>\n",
       "    </tr>\n",
       "    <tr>\n",
       "      <th>...</th>\n",
       "      <td>...</td>\n",
       "    </tr>\n",
       "    <tr>\n",
       "      <th>428521</th>\n",
       "      <td>230</td>\n",
       "    </tr>\n",
       "    <tr>\n",
       "      <th>428522</th>\n",
       "      <td>402</td>\n",
       "    </tr>\n",
       "    <tr>\n",
       "      <th>428523</th>\n",
       "      <td>42</td>\n",
       "    </tr>\n",
       "    <tr>\n",
       "      <th>428524</th>\n",
       "      <td>32</td>\n",
       "    </tr>\n",
       "    <tr>\n",
       "      <th>428525</th>\n",
       "      <td>157</td>\n",
       "    </tr>\n",
       "  </tbody>\n",
       "</table>\n",
       "<p>428526 rows × 1 columns</p>\n",
       "</div>"
      ],
      "text/plain": [
       "        struct_conn\n",
       "0               343\n",
       "1                72\n",
       "2                23\n",
       "3               313\n",
       "4                45\n",
       "...             ...\n",
       "428521          230\n",
       "428522          402\n",
       "428523           42\n",
       "428524           32\n",
       "428525          157\n",
       "\n",
       "[428526 rows x 1 columns]"
      ]
     },
     "execution_count": 30,
     "metadata": {},
     "output_type": "execute_result"
    }
   ],
   "source": [
    "edge_feat"
   ]
  },
  {
   "cell_type": "code",
   "execution_count": 31,
   "id": "352acbac",
   "metadata": {},
   "outputs": [
    {
     "data": {
      "text/html": [
       "<div>\n",
       "<style scoped>\n",
       "    .dataframe tbody tr th:only-of-type {\n",
       "        vertical-align: middle;\n",
       "    }\n",
       "\n",
       "    .dataframe tbody tr th {\n",
       "        vertical-align: top;\n",
       "    }\n",
       "\n",
       "    .dataframe thead th {\n",
       "        text-align: right;\n",
       "    }\n",
       "</style>\n",
       "<table border=\"1\" class=\"dataframe\">\n",
       "  <thead>\n",
       "    <tr style=\"text-align: right;\">\n",
       "      <th></th>\n",
       "      <th>source</th>\n",
       "      <th>target</th>\n",
       "    </tr>\n",
       "  </thead>\n",
       "  <tbody>\n",
       "    <tr>\n",
       "      <th>0</th>\n",
       "      <td>2</td>\n",
       "      <td>0</td>\n",
       "    </tr>\n",
       "    <tr>\n",
       "      <th>1</th>\n",
       "      <td>2</td>\n",
       "      <td>1</td>\n",
       "    </tr>\n",
       "    <tr>\n",
       "      <th>2</th>\n",
       "      <td>4</td>\n",
       "      <td>0</td>\n",
       "    </tr>\n",
       "    <tr>\n",
       "      <th>3</th>\n",
       "      <td>5</td>\n",
       "      <td>0</td>\n",
       "    </tr>\n",
       "    <tr>\n",
       "      <th>4</th>\n",
       "      <td>5</td>\n",
       "      <td>2</td>\n",
       "    </tr>\n",
       "    <tr>\n",
       "      <th>...</th>\n",
       "      <td>...</td>\n",
       "      <td>...</td>\n",
       "    </tr>\n",
       "    <tr>\n",
       "      <th>428521</th>\n",
       "      <td>83</td>\n",
       "      <td>77</td>\n",
       "    </tr>\n",
       "    <tr>\n",
       "      <th>428522</th>\n",
       "      <td>83</td>\n",
       "      <td>78</td>\n",
       "    </tr>\n",
       "    <tr>\n",
       "      <th>428523</th>\n",
       "      <td>83</td>\n",
       "      <td>80</td>\n",
       "    </tr>\n",
       "    <tr>\n",
       "      <th>428524</th>\n",
       "      <td>83</td>\n",
       "      <td>81</td>\n",
       "    </tr>\n",
       "    <tr>\n",
       "      <th>428525</th>\n",
       "      <td>83</td>\n",
       "      <td>82</td>\n",
       "    </tr>\n",
       "  </tbody>\n",
       "</table>\n",
       "<p>428526 rows × 2 columns</p>\n",
       "</div>"
      ],
      "text/plain": [
       "        source  target\n",
       "0            2       0\n",
       "1            2       1\n",
       "2            4       0\n",
       "3            5       0\n",
       "4            5       2\n",
       "...        ...     ...\n",
       "428521      83      77\n",
       "428522      83      78\n",
       "428523      83      80\n",
       "428524      83      81\n",
       "428525      83      82\n",
       "\n",
       "[428526 rows x 2 columns]"
      ]
     },
     "execution_count": 31,
     "metadata": {},
     "output_type": "execute_result"
    }
   ],
   "source": [
    "edge_index"
   ]
  },
  {
   "cell_type": "code",
   "execution_count": 32,
   "id": "aa1c93c9",
   "metadata": {},
   "outputs": [],
   "source": [
    "# save edge feat\n",
    "edge_feat.to_csv('./ADNI-struct-count/edge-feat.csv.gz', index=False, header=None)\n",
    "\n",
    "# save edge index\n",
    "edge_index.to_csv('./ADNI-struct-count/edge.csv.gz', index=False, header=None)"
   ]
  },
  {
   "cell_type": "markdown",
   "id": "b347179e",
   "metadata": {},
   "source": [
    "### 4-3 node level - node feat"
   ]
  },
  {
   "cell_type": "code",
   "execution_count": 33,
   "id": "d65687ea",
   "metadata": {},
   "outputs": [],
   "source": [
    "node_feat_cor_thick_list=[]\n",
    "node_feat_vol_list=[]"
   ]
  },
  {
   "cell_type": "code",
   "execution_count": 34,
   "id": "25fa8f8a",
   "metadata": {},
   "outputs": [
    {
     "data": {
      "text/plain": [
       "int"
      ]
     },
     "execution_count": 34,
     "metadata": {},
     "output_type": "execute_result"
    }
   ],
   "source": [
    "type(round(graph_data['node_feat'].T[1][3].astype(np.float64)))"
   ]
  },
  {
   "cell_type": "code",
   "execution_count": 38,
   "id": "1dadcb83",
   "metadata": {},
   "outputs": [],
   "source": [
    "for i in range(len(count_graph_list)):\n",
    "    data = os.path.join(count_data_dir, count_graph_list[i])\n",
    "    subject_id = count_graph_list[i].split('_')[-1].split('.')[0]\n",
    "    with open(data, 'rb') as f:\n",
    "        graph_data = pickle.load(f)\n",
    "    \n",
    "    for j in range(graph_data['num_nodes']):\n",
    "        # 6 node_feat\n",
    "        ## 6-1 cortical thickness\n",
    "        if graph_data['node_feat'].T[0][j] == 'nan':\n",
    "            node_feat_cor_thick_list.append(-1)\n",
    "        else:\n",
    "            node_feat_cor_thick_list.append(int(10 * graph_data['node_feat'].T[0][j].astype(np.float32)))\n",
    "        \n",
    "        ## 6-2 volume - scaled\n",
    "        if graph_data['node_feat'].T[1][j] == 'nan':\n",
    "            node_feat_vol_list.append(-1)\n",
    "        else:\n",
    "            node_feat_vol_list.append(int(0.001 * graph_data['node_feat'].T[1][j].astype(np.float32)))"
   ]
  },
  {
   "cell_type": "code",
   "execution_count": 39,
   "id": "928c2076",
   "metadata": {},
   "outputs": [],
   "source": [
    "node_feat=pd.DataFrame({'cortical_thickness': node_feat_cor_thick_list, 'volume' : node_feat_vol_list})"
   ]
  },
  {
   "cell_type": "code",
   "execution_count": 40,
   "id": "e732692f",
   "metadata": {
    "scrolled": true
   },
   "outputs": [
    {
     "data": {
      "text/html": [
       "<div>\n",
       "<style scoped>\n",
       "    .dataframe tbody tr th:only-of-type {\n",
       "        vertical-align: middle;\n",
       "    }\n",
       "\n",
       "    .dataframe tbody tr th {\n",
       "        vertical-align: top;\n",
       "    }\n",
       "\n",
       "    .dataframe thead th {\n",
       "        text-align: right;\n",
       "    }\n",
       "</style>\n",
       "<table border=\"1\" class=\"dataframe\">\n",
       "  <thead>\n",
       "    <tr style=\"text-align: right;\">\n",
       "      <th></th>\n",
       "      <th>cortical_thickness</th>\n",
       "      <th>volume</th>\n",
       "    </tr>\n",
       "  </thead>\n",
       "  <tbody>\n",
       "    <tr>\n",
       "      <th>0</th>\n",
       "      <td>25</td>\n",
       "      <td>18</td>\n",
       "    </tr>\n",
       "    <tr>\n",
       "      <th>1</th>\n",
       "      <td>19</td>\n",
       "      <td>9</td>\n",
       "    </tr>\n",
       "    <tr>\n",
       "      <th>2</th>\n",
       "      <td>-1</td>\n",
       "      <td>3</td>\n",
       "    </tr>\n",
       "    <tr>\n",
       "      <th>3</th>\n",
       "      <td>26</td>\n",
       "      <td>8</td>\n",
       "    </tr>\n",
       "    <tr>\n",
       "      <th>4</th>\n",
       "      <td>29</td>\n",
       "      <td>5</td>\n",
       "    </tr>\n",
       "    <tr>\n",
       "      <th>...</th>\n",
       "      <td>...</td>\n",
       "      <td>...</td>\n",
       "    </tr>\n",
       "    <tr>\n",
       "      <th>15031</th>\n",
       "      <td>24</td>\n",
       "      <td>2</td>\n",
       "    </tr>\n",
       "    <tr>\n",
       "      <th>15032</th>\n",
       "      <td>21</td>\n",
       "      <td>3</td>\n",
       "    </tr>\n",
       "    <tr>\n",
       "      <th>15033</th>\n",
       "      <td>24</td>\n",
       "      <td>1</td>\n",
       "    </tr>\n",
       "    <tr>\n",
       "      <th>15034</th>\n",
       "      <td>-1</td>\n",
       "      <td>41</td>\n",
       "    </tr>\n",
       "    <tr>\n",
       "      <th>15035</th>\n",
       "      <td>24</td>\n",
       "      <td>1</td>\n",
       "    </tr>\n",
       "  </tbody>\n",
       "</table>\n",
       "<p>15036 rows × 2 columns</p>\n",
       "</div>"
      ],
      "text/plain": [
       "       cortical_thickness  volume\n",
       "0                      25      18\n",
       "1                      19       9\n",
       "2                      -1       3\n",
       "3                      26       8\n",
       "4                      29       5\n",
       "...                   ...     ...\n",
       "15031                  24       2\n",
       "15032                  21       3\n",
       "15033                  24       1\n",
       "15034                  -1      41\n",
       "15035                  24       1\n",
       "\n",
       "[15036 rows x 2 columns]"
      ]
     },
     "execution_count": 40,
     "metadata": {},
     "output_type": "execute_result"
    }
   ],
   "source": [
    "node_feat # integer"
   ]
  },
  {
   "cell_type": "code",
   "execution_count": 42,
   "id": "20f1bb6e",
   "metadata": {},
   "outputs": [],
   "source": [
    "# save node feat\n",
    "node_feat.to_csv('./ADNI-struct-count/node-feat.csv.gz', index=False, header=None)"
   ]
  },
  {
   "cell_type": "code",
   "execution_count": null,
   "id": "ffa72710",
   "metadata": {},
   "outputs": [],
   "source": []
  }
 ],
 "metadata": {
  "kernelspec": {
   "display_name": "Python 3 (ipykernel)",
   "language": "python",
   "name": "python3"
  },
  "language_info": {
   "codemirror_mode": {
    "name": "ipython",
    "version": 3
   },
   "file_extension": ".py",
   "mimetype": "text/x-python",
   "name": "python",
   "nbconvert_exporter": "python",
   "pygments_lexer": "ipython3",
   "version": "3.9.7"
  }
 },
 "nbformat": 4,
 "nbformat_minor": 5
}
